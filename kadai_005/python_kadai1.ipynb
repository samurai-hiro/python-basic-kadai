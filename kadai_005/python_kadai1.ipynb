{
  "nbformat": 4,
  "nbformat_minor": 0,
  "metadata": {
    "colab": {
      "provenance": []
    },
    "kernelspec": {
      "name": "python3",
      "display_name": "Python 3"
    },
    "language_info": {
      "name": "python"
    }
  },
  "cells": [
    {
      "cell_type": "code",
      "execution_count": 5,
      "metadata": {
        "id": "7gMR-55iNWfy",
        "colab": {
          "base_uri": "https://localhost:8080/"
        },
        "outputId": "75ffebd3-cfe5-47fc-b2bf-90df6b291f79"
      },
      "outputs": [
        {
          "output_type": "stream",
          "name": "stdout",
          "text": [
            "75.0 cm2\n"
          ]
        }
      ],
      "source": [
        "upper = 10\n",
        "lower = 20\n",
        "height = 5\n",
        "menseki = (upper + lower)*height / 2\n",
        "print(f\"{menseki} cm2\")\n",
        "\n"
      ]
    }
  ]
}