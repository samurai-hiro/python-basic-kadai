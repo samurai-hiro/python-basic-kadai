{
  "nbformat": 4,
  "nbformat_minor": 0,
  "metadata": {
    "colab": {
      "provenance": []
    },
    "kernelspec": {
      "name": "python3",
      "display_name": "Python 3"
    },
    "language_info": {
      "name": "python"
    }
  },
  "cells": [
    {
      "cell_type": "code",
      "execution_count": 6,
      "metadata": {
        "id": "7gMR-55iNWfy",
        "colab": {
          "base_uri": "https://localhost:8080/"
        },
        "outputId": "5a9ce99f-495a-4608-f10f-56c76528cf9b"
      },
      "outputs": [
        {
          "output_type": "stream",
          "name": "stdout",
          "text": [
            "75.0 cm²\n"
          ]
        }
      ],
      "source": [
        "upper = 10\n",
        "lower = 20\n",
        "height = 5\n",
        "menseki = (upper + lower)*height / 2\n",
        "print(f\"{menseki} cm²\")\n",
        "\n"
      ]
    }
  ]
}