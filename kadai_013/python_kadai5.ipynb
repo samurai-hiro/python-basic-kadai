{
  "nbformat": 4,
  "nbformat_minor": 0,
  "metadata": {
    "colab": {
      "provenance": []
    },
    "kernelspec": {
      "name": "python3",
      "display_name": "Python 3"
    },
    "language_info": {
      "name": "python"
    }
  },
  "cells": [
    {
      "cell_type": "code",
      "execution_count": 4,
      "metadata": {
        "colab": {
          "base_uri": "https://localhost:8080/"
        },
        "id": "jZqYAFtBIpGK",
        "outputId": "9adac01d-e3b1-4602-cb9e-81480e966582"
      },
      "outputs": [
        {
          "output_type": "stream",
          "name": "stdout",
          "text": [
            "121.0\n"
          ]
        }
      ],
      "source": [
        "def price_tax(product:int,tax:int)->float:\n",
        "    num = tax / 100\n",
        "    total = product + (product * num)\n",
        "    return total\n",
        "\n",
        "print(price_tax(110,10))"
      ]
    }
  ]
}