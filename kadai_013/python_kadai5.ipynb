{
  "nbformat": 4,
  "nbformat_minor": 0,
  "metadata": {
    "colab": {
      "provenance": []
    },
    "kernelspec": {
      "name": "python3",
      "display_name": "Python 3"
    },
    "language_info": {
      "name": "python"
    }
  },
  "cells": [
    {
      "cell_type": "code",
      "execution_count": 3,
      "metadata": {
        "colab": {
          "base_uri": "https://localhost:8080/"
        },
        "id": "jZqYAFtBIpGK",
        "outputId": "c5b7e169-c707-457c-c87c-1603e7351a18"
      },
      "outputs": [
        {
          "output_type": "stream",
          "name": "stdout",
          "text": [
            "121.0\n"
          ]
        }
      ],
      "source": [
        "def price_tax(product:int,tax:int)->int:\n",
        "    num = tax / 100\n",
        "    total = product + (product * num)\n",
        "    return total\n",
        "\n",
        "print(price_tax(110,10))"
      ]
    }
  ]
}