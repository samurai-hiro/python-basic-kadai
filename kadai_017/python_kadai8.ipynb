{
  "nbformat": 4,
  "nbformat_minor": 0,
  "metadata": {
    "colab": {
      "provenance": []
    },
    "kernelspec": {
      "name": "python3",
      "display_name": "Python 3"
    },
    "language_info": {
      "name": "python"
    }
  },
  "cells": [
    {
      "cell_type": "code",
      "execution_count": 9,
      "metadata": {
        "colab": {
          "base_uri": "https://localhost:8080/"
        },
        "id": "8nHCFS0aVpit",
        "outputId": "462e651b-03a6-4bcc-c62b-126c2274d9ce"
      },
      "outputs": [
        {
          "output_type": "stream",
          "name": "stdout",
          "text": [
            "太郎の年齢は20で、大人です\n",
            "二郎の年齢は19で、大人ではありません\n"
          ]
        }
      ],
      "source": [
        "class Human:\n",
        "    def __init__(self,name,age):\n",
        "        self.name = name\n",
        "        self.age = age\n",
        "\n",
        "    def check_adult(self):\n",
        "        if self.age >= 20:\n",
        "            print(f\"{self.name}の年齢は{self.age}で、大人です\")\n",
        "        else:\n",
        "            print(f\"{self.name}の年齢は{self.age}で、大人ではありません\")\n",
        "\n",
        "\n",
        "user1 = Human(\"太郎\",20)\n",
        "user2 = Human(\"二郎\",19)\n",
        "\n",
        "users = [user1,user2]\n",
        "\n",
        "for val in users:\n",
        "    val.check_adult()\n"
      ]
    }
  ]
}